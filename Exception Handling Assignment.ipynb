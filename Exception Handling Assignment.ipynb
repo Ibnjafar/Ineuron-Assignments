{
 "cells": [
  {
   "cell_type": "markdown",
   "metadata": {},
   "source": [
    "# Exception Handling Assignment"
   ]
  },
  {
   "cell_type": "markdown",
   "metadata": {},
   "source": [
    "**Q.NO:1 Write a function to compute $5/0$ and use try/except to catch the exceptions.**"
   ]
  },
  {
   "cell_type": "code",
   "execution_count": 1,
   "metadata": {},
   "outputs": [],
   "source": [
    "def exception(num1,num2):\n",
    "    try:\n",
    "        compute = num1/num2\n",
    "        print(\"compute result: \", compute )\n",
    "    except ZeroDivisionError as ze:\n",
    "        print(\"Please provide a nonzero value\")\n",
    "    except TypeError as te:\n",
    "        print(\"Please provide the numerical datatype for computation\")\n",
    "    except Exception as e:\n",
    "        print(\"Arithmetic error\")\n",
    "    finally:\n",
    "        print(\"Exception program completed\")"
   ]
  },
  {
   "cell_type": "code",
   "execution_count": 2,
   "metadata": {},
   "outputs": [
    {
     "name": "stdout",
     "output_type": "stream",
     "text": [
      "Please provide a nonzero value\n",
      "Exception program completed\n"
     ]
    }
   ],
   "source": [
    "exception(1,0)"
   ]
  },
  {
   "cell_type": "markdown",
   "metadata": {},
   "source": [
    "<br>"
   ]
  },
  {
   "cell_type": "markdown",
   "metadata": {},
   "source": [
    "**Q.NO:2 Implement a Python program to generate all sentences where subject is in $[\"Americans\", \"Indians\"]$ and verb is in $[\"Play\", \"watch\"]$ and the object is in $[\"Baseball\",\"cricket\"]$**\n",
    "<br>\n",
    "<br>\n",
    "Hint: Subject,Verb and Object should be declared in the program as shown below.\n",
    "<br>\n",
    "<br>\n",
    "$subjects=[\"Americans \",\"Indians\"]$\n",
    "$verbs=[\"play\",\"watch\"]$\n",
    "$objects=[\"Baseball\",\"Cricket\"]$\n",
    "<br>\n",
    "<br>\n",
    "Output should come as below:\n",
    "<br>\n",
    "*Americans play Baseball.*\n",
    "<br>\n",
    "*Americans play Cricket.*\n",
    "<br>\n",
    "*Americans watch Baseball.*\n",
    "<br>\n",
    "*Americans watch Cricket.*\n",
    "<br>\n",
    "*Indians play Baseball.*\n",
    "<br>\n",
    "*Indians play Cricket.*\n",
    "<br>\n",
    "*Indians watch Baseball.*\n",
    "<br>\n",
    "*Indians watch Cricket.*"
   ]
  },
  {
   "cell_type": "code",
   "execution_count": 3,
   "metadata": {},
   "outputs": [],
   "source": [
    "#using function and nested for loop\n",
    "def sentence(subject,verb,objectt):\n",
    "    for sub in subject:\n",
    "        for v in verb:\n",
    "            for o in objectt:\n",
    "                print(sub+\" \"+v+\" \"+o+\".\")"
   ]
  },
  {
   "cell_type": "code",
   "execution_count": 4,
   "metadata": {},
   "outputs": [
    {
     "name": "stdout",
     "output_type": "stream",
     "text": [
      "Americans play Baseball.\n",
      "Americans play Cricket.\n",
      "Americans watch Baseball.\n",
      "Americans watch Cricket.\n",
      "Indians play Baseball.\n",
      "Indians play Cricket.\n",
      "Indians watch Baseball.\n",
      "Indians watch Cricket.\n"
     ]
    }
   ],
   "source": [
    "subject = [\"Americans\",\"Indians\"]\n",
    "verb = [\"play\",\"watch\"]\n",
    "objectt = [\"Baseball\",\"Cricket\"]\n",
    "sentence(subject,verb,objectt)"
   ]
  },
  {
   "cell_type": "code",
   "execution_count": 5,
   "metadata": {},
   "outputs": [],
   "source": [
    "#using list comprehension to do the same task\n",
    "sentence_list=[sub+\" \"+v+\" \"+o+\".\" for sub in subject for v in verb for o in objectt]"
   ]
  },
  {
   "cell_type": "code",
   "execution_count": 6,
   "metadata": {},
   "outputs": [
    {
     "name": "stdout",
     "output_type": "stream",
     "text": [
      "Americans play Baseball.\n",
      "Americans play Cricket.\n",
      "Americans watch Baseball.\n",
      "Americans watch Cricket.\n",
      "Indians play Baseball.\n",
      "Indians play Cricket.\n",
      "Indians watch Baseball.\n",
      "Indians watch Cricket.\n"
     ]
    }
   ],
   "source": [
    "for sentence in sentence_list:\n",
    "    print(sentence)"
   ]
  }
 ],
 "metadata": {
  "kernelspec": {
   "display_name": "Python 3",
   "language": "python",
   "name": "python3"
  },
  "language_info": {
   "codemirror_mode": {
    "name": "ipython",
    "version": 3
   },
   "file_extension": ".py",
   "mimetype": "text/x-python",
   "name": "python",
   "nbconvert_exporter": "python",
   "pygments_lexer": "ipython3",
   "version": "3.8.5"
  }
 },
 "nbformat": 4,
 "nbformat_minor": 4
}
